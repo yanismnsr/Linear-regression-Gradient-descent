{
 "cells": [
  {
   "cell_type": "markdown",
   "metadata": {},
   "source": [
    "# Single variable linear regression"
   ]
  },
  {
   "cell_type": "markdown",
   "metadata": {},
   "source": [
    "### Importing our libraries"
   ]
  },
  {
   "cell_type": "code",
   "execution_count": 1,
   "metadata": {},
   "outputs": [],
   "source": [
    "import matplotlib.pyplot as plt\n",
    "import csv\n",
    "import numpy as np"
   ]
  },
  {
   "cell_type": "markdown",
   "metadata": {},
   "source": [
    "### Seting up our functions\n",
    "A function which reads a csv file and returns two Arrays in a dictionnary : the first contains the first column of our dataset (_x_) and the second one contains the second column (_y_)"
   ]
  },
  {
   "cell_type": "code",
   "execution_count": 56,
   "metadata": {},
   "outputs": [],
   "source": [
    "def readCSV (filename):\n",
    "    with open(filename) as csvFile:\n",
    "        lines = csv.reader(csvFile)\n",
    "        x = []\n",
    "        y = []\n",
    "        for row in lines :\n",
    "            if row[0] != 'x':\n",
    "                x.append(float(row[0]))\n",
    "                y.append(float(row[1]))\n",
    "    return {'x' : x, 'y' : y}\n",
    "\n",
    "## test\n",
    "\n",
    "fileDico = readCSV(\"./Machine learning datasets/test.csv\")\n",
    "#plt.ion()\n",
    "#fig = plt.figure()\n",
    "#ax = fig.add_subplot(111)\n",
    "#line1, = ax.plot(fileDico['x'], fileDico['y'], 'o')\n",
    "#line1.set_ydata(fileDico['y'])\n",
    "#xStraightLine = np.linspace(0, max(fileDico['x']), 10)\n",
    "#plt.ylabel(\"y\")\n",
    "#plt.xlabel(\"x\")\n",
    "#plt.plot(fileDico['x'], fileDico['y'], 'o')\n",
    "#plt.plot(xStraightLine, xStraightLine * 1.0143346697098572 + -0.46176496780419396)\n",
    "\n"
   ]
  },
  {
   "cell_type": "markdown",
   "metadata": {},
   "source": [
    "### Our hypothesis function\n",
    "This is the function of the straight line which will cross the data"
   ]
  },
  {
   "cell_type": "code",
   "execution_count": 4,
   "metadata": {},
   "outputs": [],
   "source": [
    "def hypothesis(theta0, theta1, a):\n",
    "    return theta0 + (a * theta1)\n",
    "\n",
    "#if we want to get an array\n",
    "def hypothesisArray(theta0, theta1, x):\n",
    "    theta0 = float(theta0)\n",
    "    theta1 = float(theta1)\n",
    "    tab = []\n",
    "    for element in x :\n",
    "        print(theta0 + theta1 * float(element))\n",
    "        tab.append(theta0 + theta1 * float(element))\n",
    "    return tab"
   ]
  },
  {
   "cell_type": "markdown",
   "metadata": {},
   "source": [
    "### The cost function \n",
    "It measures the error rate of our hypothesis function. Our goal is to minimize the cost function (converge to one of its local minimums, and ideally to its global minimum)"
   ]
  },
  {
   "cell_type": "code",
   "execution_count": 5,
   "metadata": {},
   "outputs": [],
   "source": [
    "def costFunction(theta0, theta1, x, y):\n",
    "    errorOfXs = []\n",
    "    for i in range(len(x)):\n",
    "        errorOfXs.append((hypothesis(theta0, theta1, x[i]) - y[i])**2)\n",
    "    return sum(errorOfXs) / (2*len(x))"
   ]
  },
  {
   "cell_type": "markdown",
   "metadata": {},
   "source": [
    "### Gradien descent algorithm\n",
    "This function will allow us to reach our goal : minimize the cost function"
   ]
  },
  {
   "cell_type": "code",
   "execution_count": 51,
   "metadata": {},
   "outputs": [],
   "source": [
    "def sumOfDifferences(theta0, theta1, x, y, thetanumber):\n",
    "    differenceArray = []\n",
    "    if thetanumber == \"0\" :\n",
    "        for i in range(len(x)) :\n",
    "            differenceArray.append(hypothesis(theta0, theta1, x[i]) - y[i])\n",
    "    else :\n",
    "        for i in range(len(x)) :\n",
    "            differenceArray.append((hypothesis(theta0, theta1, x[i]) - y[i]) * x[i])\n",
    "    return sum(differenceArray) / len(x)\n",
    "\n",
    "def gradient_descent(learningRate, theta0, theta1, x, y):\n",
    "    xStraightLine = np.linspace(0, max(fileDico['x']), 10)\n",
    "    plt.ion()\n",
    "    fig = plt.figure()\n",
    "    ax = fig.add_subplot(111)\n",
    "    ax.plot(x, y, 'o')\n",
    "    previouscost = costFunction(theta0, theta1, x, y)\n",
    "    newtheta0 = theta0 - learningRate * sumOfDifferences(theta0, theta1, x, y, \"0\")\n",
    "    newtheta1 = theta1 - learningRate * sumOfDifferences(theta0, theta1, x, y, \"1\")\n",
    "    line1, = ax.plot(xStraightLine, xStraightLine * newtheta1 + newtheta0) b\n",
    "    while previouscost > costFunction(newtheta0, newtheta1, x, y) :\n",
    "        previouscost = costFunction(newtheta0, newtheta1, x, y)\n",
    "        thetatemps0 = newtheta0\n",
    "        thetatemps1 = newtheta1\n",
    "        newtheta0 = thetatemps0 - learningRate * sumOfDifferences(thetatemps0, thetatemps1, x, y, \"0\")\n",
    "        newtheta1 = thetatemps1 - learningRate * sumOfDifferences(thetatemps0, thetatemps1, x, y, \"1\")\n",
    "        line1.set_ydata(xStraightLine * newtheta1 + newtheta0)\n",
    "        fig.canvas.draw()\n",
    "        print([newtheta0, newtheta1])\n",
    "    return [newtheta0, newtheta1]\n"
   ]
  },
  {
   "cell_type": "markdown",
   "metadata": {},
   "source": [
    "### Let's test"
   ]
  },
  {
   "cell_type": "code",
   "execution_count": null,
   "metadata": {},
   "outputs": [],
   "source": [
    "\n",
    "fileDico = readCSV(\"./Machine learning datasets/test.csv\")\n",
    "print(gradient_descent(0.0005, 0, 0, fileDico['x'], fileDico['y']))\n",
    "\n",
    "#expected output : [-0.46176496780419396, 1.0143346697098572]"
   ]
  }
 ],
 "metadata": {
  "kernelspec": {
   "display_name": "Python 3",
   "language": "python",
   "name": "python3"
  },
  "language_info": {
   "codemirror_mode": {
    "name": "ipython",
    "version": 3
   },
   "file_extension": ".py",
   "mimetype": "text/x-python",
   "name": "python",
   "nbconvert_exporter": "python",
   "pygments_lexer": "ipython3",
   "version": "3.7.4"
  },
  "toc": {
   "base_numbering": 1,
   "nav_menu": {},
   "number_sections": false,
   "sideBar": false,
   "skip_h1_title": false,
   "title_cell": "Table of Contents",
   "title_sidebar": "Contents",
   "toc_cell": false,
   "toc_position": {},
   "toc_section_display": false,
   "toc_window_display": false
  }
 },
 "nbformat": 4,
 "nbformat_minor": 2
}
